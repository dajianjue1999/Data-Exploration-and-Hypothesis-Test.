{
 "cells": [
  {
   "cell_type": "markdown",
   "metadata": {},
   "source": [
    "# Homework 1\n",
    "\n",
    "## [Name] - [UNI]\n",
    "\n",
    "### Due: Friday Feb 18th 11:59pm ET"
   ]
  },
  {
   "cell_type": "markdown",
   "metadata": {},
   "source": [
    "In this homework we'll do some data exploration and perform a hypothesis test.\n",
    "\n",
    "\n",
    "## Instructions\n",
    "\n",
    "Replace Name and UNI in the first cell and filename with your UNI and name.\n",
    "\n",
    "Follow the comments below and fill in the blanks (____) to complete.\n",
    "\n",
    "Where a text response is asked for, please enter as a comment, starting each line with #."
   ]
  },
  {
   "cell_type": "markdown",
   "metadata": {},
   "source": [
    "# Environment Setup"
   ]
  },
  {
   "cell_type": "code",
   "execution_count": null,
   "metadata": {},
   "outputs": [],
   "source": [
    "import pandas as pd\n",
    "import numpy as np\n",
    "import seaborn as sns\n",
    "import matplotlib.pylab as plt\n",
    "\n",
    "sns.set_style('darkgrid')\n",
    "\n",
    "%matplotlib inline"
   ]
  },
  {
   "cell_type": "markdown",
   "metadata": {},
   "source": [
    "## Part 1: Data Exploration\n",
    "\n",
    "One data science task, and a common one used for data science interviews, is to predict defaults on loans.<br>\n",
    "We're going to load a subset of a common loan dataset and explore some of the features.\n",
    "\n",
    "Here is a brief description of the features included:\n",
    "\n",
    "- **loan_amnt**: The amount of money applied for\n",
    "- **term**: The period over which the load should be repaid\n",
    "- **annual_inc**: Annual income of the borrower\n",
    "- **purpose**: The purpose of the loan, such as: credit_card, debt_consolidation, etc.\n",
    "- **home_ownership**: The borrower's relationship with their primary residence\n",
    "- **outcome**: The result of the loan: paid off or default"
   ]
  },
  {
   "cell_type": "code",
   "execution_count": null,
   "metadata": {},
   "outputs": [],
   "source": [
    "# 1. (1pt) Load the data from ../data/loan_data_subset.csv into the variable df \n",
    "#    using the default separator ','\n",
    "#    using the column 'id' as the index with index_col='id'\n",
    "\n",
    "df = ____"
   ]
  },
  {
   "cell_type": "code",
   "execution_count": null,
   "metadata": {},
   "outputs": [],
   "source": [
    "# 2. (1pt) Using .shape, how many rows and columns does the dataset have?\n",
    "#    Note: you should see 1000 rows and 6 columns\n",
    "\n",
    "print(f'dataframe has {____} rows and {____} columns.')"
   ]
  },
  {
   "cell_type": "code",
   "execution_count": null,
   "metadata": {},
   "outputs": [],
   "source": [
    "# 3. (1pt) Display the first 3 rows of the dataset using .head()\n",
    "\n",
    "____"
   ]
  },
  {
   "cell_type": "code",
   "execution_count": null,
   "metadata": {},
   "outputs": [],
   "source": [
    "# 4. (1pt) What's an example of a numeric feature included in the dataset? (give column label)\n",
    "\n",
    "# ____"
   ]
  },
  {
   "cell_type": "code",
   "execution_count": null,
   "metadata": {},
   "outputs": [],
   "source": [
    "# 5. (1pt) What's an example of a categorical feature in the dataset? (give column label)\n",
    "\n",
    "# ____"
   ]
  },
  {
   "cell_type": "code",
   "execution_count": null,
   "metadata": {},
   "outputs": [],
   "source": [
    "# 6. (1pt) To practice indexing, \n",
    "#   display rows with labels (not-positional index) id100 to id102 inclusive, with all columns\n",
    "#   We should see 3 rows, 6 columns\n",
    "\n",
    "____"
   ]
  },
  {
   "cell_type": "code",
   "execution_count": null,
   "metadata": {},
   "outputs": [],
   "source": [
    "# 7. (3pt) For more practice, \n",
    "#  After sorting by 'annual_inc' decending, \n",
    "#    show the top 3 rows and only columns ['loan_amnt','annual_inc','outcome']\n",
    "\n",
    "____"
   ]
  },
  {
   "cell_type": "code",
   "execution_count": null,
   "metadata": {},
   "outputs": [],
   "source": [
    "# 8. (3pt) To practice boolean indexing, \n",
    "#    find the mean annual_inc for rows with:\n",
    "#        (loan_amnt greater than the median loan_amnt) and\n",
    "#        (outcome of 'paid off') and\n",
    "#        (home_ownership of 'MORTGAGE' or 'OWN')\n",
    "\n",
    "mean_annual_inc = ____\n",
    "\n",
    "# Print the mean annual income found with precision of 2\n",
    "print(f'{mean_annual_inc = :0.2f}')"
   ]
  },
  {
   "cell_type": "code",
   "execution_count": null,
   "metadata": {},
   "outputs": [],
   "source": [
    "# 9. (1pt) Calculate the frequencies of the different values seen in the column 'purpose' using .value_counts()\n",
    "#    Store in purpose_counts.\n",
    "\n",
    "purpose_counts = ____\n",
    "\n",
    "print(purpose_counts)"
   ]
  },
  {
   "cell_type": "code",
   "execution_count": null,
   "metadata": {},
   "outputs": [],
   "source": [
    "# 10. (3pt) Plot the frequency of each of the categories seen in the 'purpose' column of df using sns.countplot()\n",
    "#   Order the bars using the purpose_counts.index, generated in the cell above, \n",
    "#      which is sorted by frequency by default. (use the order= argument in sns.countplot())\n",
    "#   Because there are many values, and some of the labels are long, \n",
    "#      place 'purpose' on the y-axis instead of the x-axis (use y= instead of x=).\n",
    "\n",
    "____"
   ]
  },
  {
   "cell_type": "code",
   "execution_count": null,
   "metadata": {},
   "outputs": [],
   "source": [
    "# 11. (2pt) What is the mean loan_amnt for each category in purpose?\n",
    "#     Use groupby()\n",
    "#     Sort the resulting series by value decending\n",
    "\n",
    "____"
   ]
  },
  {
   "cell_type": "code",
   "execution_count": null,
   "metadata": {},
   "outputs": [],
   "source": [
    "# 12. (1pt) Display the summary statistics of annual_inc using .describe()\n",
    "\n",
    "____"
   ]
  },
  {
   "cell_type": "code",
   "execution_count": null,
   "metadata": {},
   "outputs": [],
   "source": [
    "# 13. (2pt) There appears to be a fairly large difference between mean and median in annual_inc.\n",
    "#   Print out the absolute difference in mean annual_inc and median annual_inc to a precision of 2\n",
    "#   To calculate the absolute value, use np.abs()\n",
    "\n",
    "annual_inc_mean = ____\n",
    "\n",
    "annual_inc_median = ____\n",
    "\n",
    "print(f'absolute difference = {____:0.2f}')"
   ]
  },
  {
   "cell_type": "code",
   "execution_count": null,
   "metadata": {},
   "outputs": [],
   "source": [
    "# 14. (2pt) Display a boxplot of annual_inc using sns.boxplot.\n",
    "\n",
    "#  To make the plot wider, use plt.subplots with 1 row, 1 column of axes and a figsize of (12,4)\n",
    "fig,ax = ____\n",
    "\n",
    "#  Plot a boxplot of annual_inc using sns.boxplot() and ax with annual_inc on the x-axis\n",
    "____"
   ]
  },
  {
   "cell_type": "code",
   "execution_count": null,
   "metadata": {},
   "outputs": [],
   "source": [
    "# 15. (1pt) We'll remove some of records with the highest annual_inc, treating them as outliers.\n",
    "#    What is the 95th percentile of annual_inc? (use .percentile from numpy or .quantile from pandas)\n",
    "#    Eg. Where is the cutoff where we remove extremely high values but keep 95% of the data?\n",
    "\n",
    "annual_inc_95 = ____\n",
    "\n",
    "print(f'95th percentile of annual_inc: {annual_inc_95:0.2f}')"
   ]
  },
  {
   "cell_type": "code",
   "execution_count": null,
   "metadata": {},
   "outputs": [],
   "source": [
    "# 16. (3pt) Plot loan_amnt (x-axis) against annual_inc (y-axis) using sns.jointplot(), excluding our outliers\n",
    "#     only including rows where annual_inc < annual_inc_95\n",
    "#     set alpha=0.3 to add transparency to markers\n",
    "#  Note that the histogram of annual_inc is now less right skewed (fewer very high values).\n",
    "\n",
    "____"
   ]
  },
  {
   "cell_type": "code",
   "execution_count": null,
   "metadata": {},
   "outputs": [],
   "source": [
    "# 17. (5pt) Visualize annual income (annual_inc) by outcome.\n",
    "#     Outcome takes two values: 'paid off' and 'default'\n",
    "\n",
    "# NOTE: In all of the below use all rows of df, not limiting to df.annual_inc less than annual_inc_95\n",
    "\n",
    "# Here, we'll create 2 plots, one that compares the distributions of annual_inc by outcome,\n",
    "# the other comparing the mean of annual_inc by outcome\n",
    "\n",
    "# Create a subplot with 1 row and 2 columns with figsize of (12,4) and capture the fig and ax return as fig,ax\n",
    "fig,ax = ____\n",
    "\n",
    "# On the first axis (ax[0]) use sns.boxplot() to compare the distribution of annual_inc by outcome\n",
    "#   Place 'annual_inc' on the x-axis and 'outcome' on the y-axis.\n",
    "____\n",
    "\n",
    "# Set the title on the first axis ax[0] to be 'Annual Income Distributions'\n",
    "____\n",
    "\n",
    "# On the second axis (ax[1]) use sns.barplot() to compare the means of annual_inc by outcome\n",
    "#   Place 'annual_inc' on the x-axis and 'outcome' on the y-axis.\n",
    "____\n",
    "\n",
    "# Set the title on the second plot to be 'Annual Income Means'\n",
    "____"
   ]
  },
  {
   "cell_type": "markdown",
   "metadata": {},
   "source": [
    "## Part 2: Hypothesis Testing\n",
    "\n",
    "The plots in the question above indicate a difference in annual_inc by outcome.\n",
    "\n",
    "Let's test the hypothesis that there is a difference in mean annual_inc for loans with an outcome of 'paid off' vs loans with an outcome of 'default'."
   ]
  },
  {
   "cell_type": "code",
   "execution_count": null,
   "metadata": {},
   "outputs": [],
   "source": [
    "# 18. (3pt) Calculate the difference in mean annual_inc between 'paid off' and 'default' \n",
    "#     Use: mean annual_inc of paid off - mean annual_inc of default\n",
    "\n",
    "# Calculate the mean value for each group\n",
    "mean_annual_inc_paid_off = ____\n",
    "mean_annual_inc_default = ____\n",
    "observed_mean_diff = ____\n",
    "\n",
    "# Print the the value of observed_mean_diff with a precision of 2\n",
    "____"
   ]
  },
  {
   "cell_type": "code",
   "execution_count": null,
   "metadata": {},
   "outputs": [],
   "source": [
    "# 19. (5pt) We'll perform a permutation test to see how significant this difference is\n",
    "#    by generating 1,000 random permutation samples of mean difference\n",
    "\n",
    "rand_mean_diffs = [] \n",
    "n_samples = 1000\n",
    "n_paid_off = ___ # the number of observations with outcome of 'paid off'\n",
    "print(f'{n_paid_off = :d}')\n",
    "\n",
    "for i in range(n_samples):\n",
    "    \n",
    "    # Get a random permutation of df.annual_inc\n",
    "    # Use the pandas .sample() function with \n",
    "    #    sample size the same size as original dataset\n",
    "    #    sampling without replacement\n",
    "    #    random_state == i (the index of the loop) for consistency in grading\n",
    "    rand_perm = ____\n",
    "    \n",
    "    # Take the mean of the first n_paid_off random values\n",
    "    rand_mean_paid_off = ____\n",
    "    \n",
    "    # Take the mean of the remaining random values\n",
    "    rand_mean_default = ____\n",
    "    \n",
    "    # Append the difference (rand_mean_paid_off - rand_mean_default) to the list rand_mean_diffs\n",
    "    ____\n",
    "    \n",
    "# Convert rand_mean_diffs into a numpy array so we can use numpy functions\n",
    "rand_mean_diffs = np.array(rand_mean_diffs)\n",
    "    \n",
    "# check that we have the correct amount of data by asserting that the length of rand_mean_diffs == n_samples\n",
    "assert len(rand_mean_diffs) == n_samples\n",
    "\n",
    "# check that we only have one array of differences\n",
    "assert rand_mean_diffs.ndim == 1\n",
    "\n",
    "# Display the first three values in rand_mean_diffs so we know when it's done.\n",
    "rand_mean_diffs[:3]"
   ]
  },
  {
   "cell_type": "code",
   "execution_count": null,
   "metadata": {},
   "outputs": [],
   "source": [
    "# 20. (5pt) Before we plot the data, let's transform all values to their z-score\n",
    "\n",
    "# Calculate the sample mean of our rand_mean_diffs using .mean()\n",
    "mean_rand_mean_diffs = ____\n",
    "\n",
    "# Calculate the sample standard deviation using .std()\n",
    "std_rand_mean_diffs = ____\n",
    "\n",
    "# Transform rand_mean_diffs to rand_mean_diffs_zscore by subtracting the mean and dividing by the std dev\n",
    "rand_mean_diffs_zscore = ____\n",
    "\n",
    "# Transform the observed_mean_diff as well by subtracting the mean and dividing by the std dev\n",
    "observed_mean_diff_zscore = ____\n",
    "\n",
    "# To check our transformation, check that the zscore mean is near 0 and std dev is near 1\n",
    "print(f'{rand_mean_diffs_zscore.mean() = :0.3f}')\n",
    "print(f'{rand_mean_diffs_zscore.std()  = :0.3f}')\n",
    "print(f'{observed_mean_diff_zscore     = :0.3f}')\n",
    "\n",
    "assert np.abs(rand_mean_diffs_zscore.mean() - 0) < .0001, 'rand_mean_diffs_zscore.mean() should be close to zero'\n",
    "assert np.abs(rand_mean_diffs_zscore.std() - 1) < .0001, 'rand_mean_diffs_zscore.std() should be close to 1'"
   ]
  },
  {
   "cell_type": "code",
   "execution_count": null,
   "metadata": {},
   "outputs": [],
   "source": [
    "# 21. (2pt) Plot our observed metric against our samples.\n",
    "\n",
    "# Use seaborn histplot to plot the distribution of rand_mean_diffs_zscore\n",
    "#    capture the return in ax\n",
    "____\n",
    "\n",
    "# Use ax.axvline() to plot a line at our observed_mean_diff_zscore\n",
    "# Make the line red using color='r'\n",
    "____"
   ]
  },
  {
   "cell_type": "code",
   "execution_count": null,
   "metadata": {},
   "outputs": [],
   "source": [
    "# 22. (3pt) The plot seems to indicate a difference a real difference in values. What is the p-value?\n",
    "#    Calculate a two-tailed p_value using np.abs()\n",
    "#    Recall that we want the proportion of random samples (rand_mean_diffs_zscore) that are \n",
    "#      greater than or equal to the observed difference (observed_mean_diff_zscore).\n",
    "p_value = ____\n",
    "\n",
    "# print p_value with a precision of 3\n",
    "____"
   ]
  }
 ],
 "metadata": {
  "kernelspec": {
   "display_name": "Python 3 (ipykernel)",
   "language": "python",
   "name": "python3"
  },
  "language_info": {
   "codemirror_mode": {
    "name": "ipython",
    "version": 3
   },
   "file_extension": ".py",
   "mimetype": "text/x-python",
   "name": "python",
   "nbconvert_exporter": "python",
   "pygments_lexer": "ipython3",
   "version": "3.9.9"
  }
 },
 "nbformat": 4,
 "nbformat_minor": 2
}
