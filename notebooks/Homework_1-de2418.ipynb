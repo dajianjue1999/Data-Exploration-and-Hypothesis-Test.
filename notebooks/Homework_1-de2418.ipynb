{
 "cells": [
  {
   "cell_type": "markdown",
   "metadata": {},
   "source": [
    "# Homework 1\n",
    "\n",
    "## [Daoyang E] - [de2418]\n",
    "\n",
    "### Due: Friday Feb 18th 11:59pm ET"
   ]
  },
  {
   "cell_type": "markdown",
   "metadata": {},
   "source": [
    "In this homework we'll do some data exploration and perform a hypothesis test.\n",
    "\n",
    "\n",
    "## Instructions\n",
    "\n",
    "Replace Name and UNI in the first cell and filename with your UNI and name.\n",
    "\n",
    "Follow the comments below and fill in the blanks (____) to complete.\n",
    "\n",
    "Where a text response is asked for, please enter as a comment, starting each line with #."
   ]
  },
  {
   "cell_type": "markdown",
   "metadata": {},
   "source": [
    "# Environment Setup"
   ]
  },
  {
   "cell_type": "code",
   "execution_count": 1,
   "metadata": {},
   "outputs": [],
   "source": [
    "import pandas as pd\n",
    "import numpy as np\n",
    "import seaborn as sns\n",
    "import matplotlib.pylab as plt\n",
    "\n",
    "sns.set_style('darkgrid')\n",
    "\n",
    "%matplotlib inline"
   ]
  },
  {
   "cell_type": "markdown",
   "metadata": {},
   "source": [
    "## Part 1: Data Exploration\n",
    "\n",
    "One data science task, and a common one used for data science interviews, is to predict defaults on loans.<br>\n",
    "We're going to load a subset of a common loan dataset and explore some of the features.\n",
    "\n",
    "Here is a brief description of the features included:\n",
    "\n",
    "- **loan_amnt**: The amount of money applied for\n",
    "- **term**: The period over which the load should be repaid\n",
    "- **annual_inc**: Annual income of the borrower\n",
    "- **purpose**: The purpose of the loan, such as: credit_card, debt_consolidation, etc.\n",
    "- **home_ownership**: The borrower's relationship with their primary residence\n",
    "- **outcome**: The result of the loan: paid off or default"
   ]
  },
  {
   "cell_type": "code",
   "execution_count": 2,
   "metadata": {},
   "outputs": [],
   "source": [
    "# 1. (1pt) Load the data from ../data/loan_data_subset.csv into the variable df \n",
    "#    using the default separator ','\n",
    "#    using the column 'id' as the index with index_col='id'\n",
    "\n",
    "df = pd.read_csv('../data/loan_data_subset.csv', sep = ',', index_col = 'id')"
   ]
  },
  {
   "cell_type": "code",
   "execution_count": 3,
   "metadata": {},
   "outputs": [
    {
     "name": "stdout",
     "output_type": "stream",
     "text": [
      "dataframe has 1000 rows and 6 columns.\n"
     ]
    }
   ],
   "source": [
    "# 2. (1pt) Using .shape, how many rows and columns does the dataset have?\n",
    "#    Note: you should see 1000 rows and 6 columns\n",
    "\n",
    "print(f'dataframe has {df.shape[0]} rows and {df.shape[1]} columns.')"
   ]
  },
  {
   "cell_type": "code",
   "execution_count": 4,
   "metadata": {},
   "outputs": [
    {
     "data": {
      "text/html": [
       "<div>\n",
       "<style scoped>\n",
       "    .dataframe tbody tr th:only-of-type {\n",
       "        vertical-align: middle;\n",
       "    }\n",
       "\n",
       "    .dataframe tbody tr th {\n",
       "        vertical-align: top;\n",
       "    }\n",
       "\n",
       "    .dataframe thead th {\n",
       "        text-align: right;\n",
       "    }\n",
       "</style>\n",
       "<table border=\"1\" class=\"dataframe\">\n",
       "  <thead>\n",
       "    <tr style=\"text-align: right;\">\n",
       "      <th></th>\n",
       "      <th>loan_amnt</th>\n",
       "      <th>term</th>\n",
       "      <th>annual_inc</th>\n",
       "      <th>purpose</th>\n",
       "      <th>home_ownership</th>\n",
       "      <th>outcome</th>\n",
       "    </tr>\n",
       "    <tr>\n",
       "      <th>id</th>\n",
       "      <th></th>\n",
       "      <th></th>\n",
       "      <th></th>\n",
       "      <th></th>\n",
       "      <th></th>\n",
       "      <th></th>\n",
       "    </tr>\n",
       "  </thead>\n",
       "  <tbody>\n",
       "    <tr>\n",
       "      <th>id0</th>\n",
       "      <td>7875</td>\n",
       "      <td>36 months</td>\n",
       "      <td>40000</td>\n",
       "      <td>credit_card</td>\n",
       "      <td>MORTGAGE</td>\n",
       "      <td>paid off</td>\n",
       "    </tr>\n",
       "    <tr>\n",
       "      <th>id1</th>\n",
       "      <td>9325</td>\n",
       "      <td>36 months</td>\n",
       "      <td>47000</td>\n",
       "      <td>debt_consolidation</td>\n",
       "      <td>MORTGAGE</td>\n",
       "      <td>paid off</td>\n",
       "    </tr>\n",
       "    <tr>\n",
       "      <th>id2</th>\n",
       "      <td>10600</td>\n",
       "      <td>36 months</td>\n",
       "      <td>28264</td>\n",
       "      <td>debt_consolidation</td>\n",
       "      <td>RENT</td>\n",
       "      <td>paid off</td>\n",
       "    </tr>\n",
       "  </tbody>\n",
       "</table>\n",
       "</div>"
      ],
      "text/plain": [
       "     loan_amnt       term  annual_inc             purpose home_ownership  \\\n",
       "id                                                                         \n",
       "id0       7875  36 months       40000         credit_card       MORTGAGE   \n",
       "id1       9325  36 months       47000  debt_consolidation       MORTGAGE   \n",
       "id2      10600  36 months       28264  debt_consolidation           RENT   \n",
       "\n",
       "      outcome  \n",
       "id             \n",
       "id0  paid off  \n",
       "id1  paid off  \n",
       "id2  paid off  "
      ]
     },
     "execution_count": 4,
     "metadata": {},
     "output_type": "execute_result"
    }
   ],
   "source": [
    "# 3. (1pt) Display the first 3 rows of the dataset using .head()\n",
    "\n",
    "df.head(3)"
   ]
  },
  {
   "cell_type": "code",
   "execution_count": 5,
   "metadata": {},
   "outputs": [
    {
     "data": {
      "text/plain": [
       "loan_amnt                7875\n",
       "term                36 months\n",
       "annual_inc              40000\n",
       "purpose           credit_card\n",
       "home_ownership       MORTGAGE\n",
       "outcome              paid off\n",
       "Name: id0, dtype: object"
      ]
     },
     "execution_count": 5,
     "metadata": {},
     "output_type": "execute_result"
    }
   ],
   "source": [
    "# 4. (1pt) What's an example of a numeric feature included in the dataset? (give column label)\n",
    "\n",
    "df.iloc[0]"
   ]
  },
  {
   "cell_type": "code",
   "execution_count": 6,
   "metadata": {},
   "outputs": [
    {
     "data": {
      "text/plain": [
       "loan_amnt                7875\n",
       "term                36 months\n",
       "annual_inc              40000\n",
       "purpose           credit_card\n",
       "home_ownership       MORTGAGE\n",
       "outcome              paid off\n",
       "Name: id0, dtype: object"
      ]
     },
     "execution_count": 6,
     "metadata": {},
     "output_type": "execute_result"
    }
   ],
   "source": [
    "# 5. (1pt) What's an example of a categorical feature in the dataset? (give column label)\n",
    "\n",
    "df.loc['id0']"
   ]
  },
  {
   "cell_type": "code",
   "execution_count": 7,
   "metadata": {},
   "outputs": [
    {
     "data": {
      "text/html": [
       "<div>\n",
       "<style scoped>\n",
       "    .dataframe tbody tr th:only-of-type {\n",
       "        vertical-align: middle;\n",
       "    }\n",
       "\n",
       "    .dataframe tbody tr th {\n",
       "        vertical-align: top;\n",
       "    }\n",
       "\n",
       "    .dataframe thead th {\n",
       "        text-align: right;\n",
       "    }\n",
       "</style>\n",
       "<table border=\"1\" class=\"dataframe\">\n",
       "  <thead>\n",
       "    <tr style=\"text-align: right;\">\n",
       "      <th></th>\n",
       "      <th>loan_amnt</th>\n",
       "      <th>term</th>\n",
       "      <th>annual_inc</th>\n",
       "      <th>purpose</th>\n",
       "      <th>home_ownership</th>\n",
       "      <th>outcome</th>\n",
       "    </tr>\n",
       "    <tr>\n",
       "      <th>id</th>\n",
       "      <th></th>\n",
       "      <th></th>\n",
       "      <th></th>\n",
       "      <th></th>\n",
       "      <th></th>\n",
       "      <th></th>\n",
       "    </tr>\n",
       "  </thead>\n",
       "  <tbody>\n",
       "    <tr>\n",
       "      <th>id100</th>\n",
       "      <td>10000</td>\n",
       "      <td>36 months</td>\n",
       "      <td>75000</td>\n",
       "      <td>credit_card</td>\n",
       "      <td>RENT</td>\n",
       "      <td>paid off</td>\n",
       "    </tr>\n",
       "    <tr>\n",
       "      <th>id101</th>\n",
       "      <td>3000</td>\n",
       "      <td>36 months</td>\n",
       "      <td>72000</td>\n",
       "      <td>other</td>\n",
       "      <td>RENT</td>\n",
       "      <td>paid off</td>\n",
       "    </tr>\n",
       "    <tr>\n",
       "      <th>id102</th>\n",
       "      <td>16000</td>\n",
       "      <td>36 months</td>\n",
       "      <td>79000</td>\n",
       "      <td>debt_consolidation</td>\n",
       "      <td>RENT</td>\n",
       "      <td>paid off</td>\n",
       "    </tr>\n",
       "  </tbody>\n",
       "</table>\n",
       "</div>"
      ],
      "text/plain": [
       "       loan_amnt       term  annual_inc             purpose home_ownership  \\\n",
       "id                                                                           \n",
       "id100      10000  36 months       75000         credit_card           RENT   \n",
       "id101       3000  36 months       72000               other           RENT   \n",
       "id102      16000  36 months       79000  debt_consolidation           RENT   \n",
       "\n",
       "        outcome  \n",
       "id               \n",
       "id100  paid off  \n",
       "id101  paid off  \n",
       "id102  paid off  "
      ]
     },
     "execution_count": 7,
     "metadata": {},
     "output_type": "execute_result"
    }
   ],
   "source": [
    "# 6. (1pt) To practice indexing, \n",
    "#   display rows with labels (not-positional index) id100 to id102 inclusive, with all columns\n",
    "#   We should see 3 rows, 6 columns\n",
    "\n",
    "df.loc['id100':'id102']"
   ]
  },
  {
   "cell_type": "code",
   "execution_count": 8,
   "metadata": {},
   "outputs": [
    {
     "data": {
      "text/html": [
       "<div>\n",
       "<style scoped>\n",
       "    .dataframe tbody tr th:only-of-type {\n",
       "        vertical-align: middle;\n",
       "    }\n",
       "\n",
       "    .dataframe tbody tr th {\n",
       "        vertical-align: top;\n",
       "    }\n",
       "\n",
       "    .dataframe thead th {\n",
       "        text-align: right;\n",
       "    }\n",
       "</style>\n",
       "<table border=\"1\" class=\"dataframe\">\n",
       "  <thead>\n",
       "    <tr style=\"text-align: right;\">\n",
       "      <th></th>\n",
       "      <th>loan_amnt</th>\n",
       "      <th>annual_inc</th>\n",
       "      <th>outcome</th>\n",
       "    </tr>\n",
       "    <tr>\n",
       "      <th>id</th>\n",
       "      <th></th>\n",
       "      <th></th>\n",
       "      <th></th>\n",
       "    </tr>\n",
       "  </thead>\n",
       "  <tbody>\n",
       "    <tr>\n",
       "      <th>id0</th>\n",
       "      <td>7875</td>\n",
       "      <td>40000</td>\n",
       "      <td>paid off</td>\n",
       "    </tr>\n",
       "    <tr>\n",
       "      <th>id1</th>\n",
       "      <td>9325</td>\n",
       "      <td>47000</td>\n",
       "      <td>paid off</td>\n",
       "    </tr>\n",
       "    <tr>\n",
       "      <th>id2</th>\n",
       "      <td>10600</td>\n",
       "      <td>28264</td>\n",
       "      <td>paid off</td>\n",
       "    </tr>\n",
       "  </tbody>\n",
       "</table>\n",
       "</div>"
      ],
      "text/plain": [
       "     loan_amnt  annual_inc   outcome\n",
       "id                                  \n",
       "id0       7875       40000  paid off\n",
       "id1       9325       47000  paid off\n",
       "id2      10600       28264  paid off"
      ]
     },
     "execution_count": 8,
     "metadata": {},
     "output_type": "execute_result"
    }
   ],
   "source": [
    "# 7. (3pt) For more practice, \n",
    "#  After sorting by 'annual_inc' decending, \n",
    "#    show the top 3 rows and only columns ['loan_amnt','annual_inc','outcome']\n",
    "\n",
    "df.iloc[:3].loc[:,['loan_amnt','annual_inc','outcome']]"
   ]
  },
  {
   "cell_type": "code",
   "execution_count": 9,
   "metadata": {},
   "outputs": [
    {
     "name": "stdout",
     "output_type": "stream",
     "text": [
      "mean_annual_inc= 98223.29\n"
     ]
    }
   ],
   "source": [
    "# 8. (3pt) To practice boolean indexing, \n",
    "#    find the mean annual_inc for rows with:\n",
    "#        (loan_amnt greater than the median loan_amnt) and\n",
    "#        (outcome of 'paid off') and\n",
    "#        (home_ownership of 'MORTGAGE' or 'OWN')\n",
    "\n",
    "mean_annual_inc = df.loc[(df.loan_amnt > df.loan_amnt.median()) \n",
    "                         & (df.outcome == \"paid off\") \n",
    "                         & (df.home_ownership.isin(['MORTGAGE','OWN']))].loc[:,['annual_inc']].mean()\n",
    "mean_annual_inc = mean_annual_inc.iloc[0]\n",
    "\n",
    "# Print the mean annual income found with precision of 2\n",
    "print(f'{mean_annual_inc= :0.2f}')"
   ]
  },
  {
   "cell_type": "code",
   "execution_count": 10,
   "metadata": {},
   "outputs": [
    {
     "name": "stdout",
     "output_type": "stream",
     "text": [
      "debt_consolidation    542\n",
      "credit_card           173\n",
      "other                  93\n",
      "home_improvement       62\n",
      "major_purchase         34\n",
      "small_business         33\n",
      "medical                15\n",
      "wedding                15\n",
      "moving                 12\n",
      "house                  10\n",
      "car                     7\n",
      "vacation                4\n",
      "Name: purpose, dtype: int64\n"
     ]
    },
    {
     "data": {
      "text/plain": [
       "Index(['debt_consolidation', 'credit_card', 'other', 'home_improvement',\n",
       "       'major_purchase', 'small_business', 'medical', 'wedding', 'moving',\n",
       "       'house', 'car', 'vacation'],\n",
       "      dtype='object')"
      ]
     },
     "execution_count": 10,
     "metadata": {},
     "output_type": "execute_result"
    }
   ],
   "source": [
    "# 9. (1pt) Calculate the frequencies of the different values seen in the column 'purpose' using .value_counts()\n",
    "#    Store in purpose_counts.\n",
    "\n",
    "purpose_counts = df.purpose.value_counts()\n",
    "\n",
    "print(purpose_counts)\n",
    "\n",
    "purpose_counts.index"
   ]
  },
  {
   "cell_type": "code",
   "execution_count": 11,
   "metadata": {},
   "outputs": [
    {
     "data": {
      "text/plain": [
       "<AxesSubplot:xlabel='count', ylabel='purpose'>"
      ]
     },
     "execution_count": 11,
     "metadata": {},
     "output_type": "execute_result"
    },
    {
     "data": {
      "image/png": "[encoded data removed]",
      "text/plain": [
       "<Figure size 432x288 with 1 Axes>"
      ]
     },
     "metadata": {
      "needs_background": "light"
     },
     "output_type": "display_data"
    }
   ],
   "source": [
    "# 10. (3pt) Plot the frequency of each of the categories seen in the 'purpose' column of df using sns.countplot()\n",
    "#   Order the bars using the purpose_counts.index, generated in the cell above, \n",
    "#      which is sorted by frequency by default. (use the order= argument in sns.countplot())\n",
    "#   Because there are many values, and some of the labels are long, \n",
    "#      place 'purpose' on the y-axis instead of the x-axis (use y= instead of x=).\n",
    "\n",
    "sns.countplot(data = df, y = \"purpose\", order = purpose_counts.index)"
   ]
  },
  {
   "cell_type": "code",
   "execution_count": 12,
   "metadata": {},
   "outputs": [
    {
     "data": {
      "text/plain": [
       "purpose\n",
       "small_business        15344.696970\n",
       "house                 14717.500000\n",
       "debt_consolidation    14440.221402\n",
       "credit_card           12776.589595\n",
       "home_improvement      12114.516129\n",
       "major_purchase        11732.352941\n",
       "other                  9758.064516\n",
       "wedding                9153.333333\n",
       "vacation               7700.000000\n",
       "medical                6666.666667\n",
       "car                    5542.857143\n",
       "moving                 4933.333333\n",
       "Name: loan_amnt, dtype: float64"
      ]
     },
     "execution_count": 12,
     "metadata": {},
     "output_type": "execute_result"
    }
   ],
   "source": [
    "# 11. (2pt) What is the mean loan_amnt for each category in purpose?\n",
    "#     Use groupby()\n",
    "#     Sort the resulting series by value decending\n",
    "\n",
    "df.groupby(\"purpose\").loan_amnt.mean().sort_values(ascending=False)"
   ]
  },
  {
   "cell_type": "code",
   "execution_count": 13,
   "metadata": {},
   "outputs": [
    {
     "data": {
      "text/plain": [
       "count      1000.000000\n",
       "mean      68158.890000\n",
       "std       40271.746339\n",
       "min       10000.000000\n",
       "25%       42000.000000\n",
       "50%       60000.000000\n",
       "75%       83000.000000\n",
       "max      367000.000000\n",
       "Name: annual_inc, dtype: float64"
      ]
     },
     "execution_count": 13,
     "metadata": {},
     "output_type": "execute_result"
    }
   ],
   "source": [
    "# 12. (1pt) Display the summary statistics of annual_inc using .describe()\n",
    "\n",
    "df.annual_inc.describe()"
   ]
  },
  {
   "cell_type": "code",
   "execution_count": 14,
   "metadata": {},
   "outputs": [
    {
     "name": "stdout",
     "output_type": "stream",
     "text": [
      "absolute difference = 8158.89\n"
     ]
    }
   ],
   "source": [
    "# 13. (2pt) There appears to be a fairly large difference between mean and median in annual_inc.\n",
    "#   Print out the absolute difference in mean annual_inc and median annual_inc to a precision of 2\n",
    "#   To calculate the absolute value, use np.abs()\n",
    "\n",
    "annual_inc_mean = df.annual_inc.mean()\n",
    "\n",
    "annual_inc_median = df.annual_inc.median()\n",
    "\n",
    "print(f'absolute difference = {np.abs(annual_inc_mean-annual_inc_median):0.2f}')"
   ]
  },
  {
   "cell_type": "code",
   "execution_count": 15,
   "metadata": {},
   "outputs": [
    {
     "data": {
      "image/png": "[encoded data removed]",
      "text/plain": [
       "<Figure size 864x288 with 1 Axes>"
      ]
     },
     "metadata": {
      "needs_background": "light"
     },
     "output_type": "display_data"
    }
   ],
   "source": [
    "# 14. (2pt) Display a boxplot of annual_inc using sns.boxplot.\n",
    "\n",
    "#  To make the plot wider, use plt.subplots with 1 row, 1 column of axes and a figsize of (12,4)\n",
    "fig,ax = plt.subplots(1,1,figsize=(12, 4)) \n",
    "\n",
    "#  Plot a boxplot of annual_inc using sns.boxplot() and ax with annual_inc on the x-axis\n",
    "sns.boxplot(x= 'annual_inc', data = df, ax = ax); "
   ]
  },
  {
   "cell_type": "code",
   "execution_count": 16,
   "metadata": {},
   "outputs": [
    {
     "name": "stdout",
     "output_type": "stream",
     "text": [
      "95th percentile of annual_inc: 141195.95\n"
     ]
    }
   ],
   "source": [
    "# 15. (1pt) We'll remove some of records with the highest annual_inc, treating them as outliers.\n",
    "#    What is the 95th percentile of annual_inc? (use .percentile from numpy or .quantile from pandas)\n",
    "#    Eg. Where is the cutoff where we remove extremely high values but keep 95% of the data?\n",
    "\n",
    "annual_inc_95 = df.annual_inc.quantile(q = 0.95)\n",
    "\n",
    "print(f'95th percentile of annual_inc: {annual_inc_95:0.2f}')"
   ]
  },
  {
   "cell_type": "code",
   "execution_count": 17,
   "metadata": {},
   "outputs": [
    {
     "data": {
      "text/plain": [
       "<seaborn.axisgrid.JointGrid at 0x1ec0355afd0>"
      ]
     },
     "execution_count": 17,
     "metadata": {},
     "output_type": "execute_result"
    },
    {
     "data": {
      "image/png": "[encoded data removed]",
      "text/plain": [
       "<Figure size 432x432 with 3 Axes>"
      ]
     },
     "metadata": {
      "needs_background": "light"
     },
     "output_type": "display_data"
    }
   ],
   "source": [
    "# 16. (3pt) Plot loan_amnt (x-axis) against annual_inc (y-axis) using sns.jointplot(), excluding our outliers\n",
    "#     only including rows where annual_inc < annual_inc_95\n",
    "#     set alpha=0.3 to add transparency to markers\n",
    "#  Note that the histogram of annual_inc is now less right skewed (fewer very high values).\n",
    "\n",
    "df_new = df.loc[df.annual_inc < annual_inc_95]\n",
    "sns.jointplot(data = df_new, x = 'loan_amnt', y = 'annual_inc', alpha = 0.3)"
   ]
  },
  {
   "cell_type": "code",
   "execution_count": 18,
   "metadata": {},
   "outputs": [
    {
     "data": {
      "text/plain": [
       "Text(0.5, 1.0, 'Annual Income Means')"
      ]
     },
     "execution_count": 18,
     "metadata": {},
     "output_type": "execute_result"
    },
    {
     "data": {
      "image/png": "[encoded data removed]",
      "text/plain": [
       "<Figure size 864x288 with 2 Axes>"
      ]
     },
     "metadata": {
      "needs_background": "light"
     },
     "output_type": "display_data"
    }
   ],
   "source": [
    "# 17. (5pt) Visualize annual income (annual_inc) by outcome.\n",
    "#     Outcome takes two values: 'paid off' and 'default'\n",
    "\n",
    "# NOTE: In all of the below use all rows of df, not limiting to df.annual_inc less than annual_inc_95\n",
    "\n",
    "df_17 = df.loc[df.outcome.isin(['paid off','default'])]\n",
    "\n",
    "# Here, we'll create 2 plots, one that compares the distributions of annual_inc by outcome,\n",
    "# the other comparing the mean of annual_inc by outcome\n",
    "\n",
    "# Create a subplot with 1 row and 2 columns with figsize of (12,4) and capture the fig and ax return as fig,ax\n",
    "fig,ax = plt.subplots(1,2,figsize=(12, 4))\n",
    "\n",
    "# On the first axis (ax[0]) use sns.boxplot() to compare the distribution of annual_inc by outcome\n",
    "#   Place 'annual_inc' on the x-axis and 'outcome' on the y-axis.\n",
    "sns.boxplot(data = df_17, x = \"annual_inc\", y = \"outcome\", ax = ax[0])\n",
    "\n",
    "# Set the title on the first axis ax[0] to be 'Annual Income Distributions'\n",
    "ax[0].set_title('Annual Income Distributions')\n",
    "\n",
    "# On the second axis (ax[1]) use sns.barplot() to compare the means of annual_inc by outcome\n",
    "#   Place 'annual_inc' on the x-axis and 'outcome' on the y-axis.\n",
    "sns.barplot(data = df_17, x = 'annual_inc', y = 'outcome', ax = ax[1])\n",
    "\n",
    "# Set the title on the second plot to be 'Annual Income Means'\n",
    "ax[1].set_title('Annual Income Means')"
   ]
  },
  {
   "cell_type": "markdown",
   "metadata": {},
   "source": [
    "## Part 2: Hypothesis Testing\n",
    "\n",
    "The plots in the question above indicate a difference in annual_inc by outcome.\n",
    "\n",
    "Let's test the hypothesis that there is a difference in mean annual_inc for loans with an outcome of 'paid off' vs loans with an outcome of 'default'."
   ]
  },
  {
   "cell_type": "code",
   "execution_count": 19,
   "metadata": {},
   "outputs": [
    {
     "name": "stdout",
     "output_type": "stream",
     "text": [
      "the value of observed mean difference is  9062.74\n"
     ]
    }
   ],
   "source": [
    "# 18. (3pt) Calculate the difference in mean annual_inc between 'paid off' and 'default' \n",
    "#     Use: mean annual_inc of paid off - mean annual_inc of default\n",
    "\n",
    "# Calculate the mean value for each group\n",
    "mean_annual_inc_paid_off = df.loc[df.outcome == 'paid off'].annual_inc.mean()\n",
    "mean_annual_inc_default = df.loc[df.outcome == 'default'].annual_inc.mean()\n",
    "observed_mean_diff = abs(mean_annual_inc_paid_off - mean_annual_inc_default)\n",
    "\n",
    "# Print the the value of observed_mean_diff with a precision of 2\n",
    "print(f'the value of observed mean difference is {observed_mean_diff : 0.2f}')"
   ]
  },
  {
   "cell_type": "code",
   "execution_count": 20,
   "metadata": {},
   "outputs": [
    {
     "name": "stdout",
     "output_type": "stream",
     "text": [
      "n_paid_off = 500\n"
     ]
    },
    {
     "data": {
      "text/plain": [
       "array([ 2323.292,  3927.652, -4313.772])"
      ]
     },
     "execution_count": 20,
     "metadata": {},
     "output_type": "execute_result"
    }
   ],
   "source": [
    "# 19. (5pt) We'll perform a permutation test to see how significant this difference is\n",
    "#    by generating 1,000 random permutation samples of mean difference\n",
    "\n",
    "rand_mean_diffs = [] \n",
    "n_samples = 1000\n",
    "n_paid_off = (df.outcome == 'paid off').sum() # the number of observations with outcome of 'paid off'\n",
    "print(f'{n_paid_off = :d}')\n",
    "\n",
    "for i in range(n_samples):\n",
    "    \n",
    "    # Get a random permutation of df.annual_inc\n",
    "    # Use the pandas .sample() function with \n",
    "    #    sample size the same size as original dataset\n",
    "    #    sampling without replacement\n",
    "    #    random_state == i (the index of the loop) for consistency in grading\n",
    "    rand_perm = df.annual_inc.sample(frac = 1, replace = False, random_state = i)\n",
    "    \n",
    "    # Take the mean of the first n_paid_off random values\n",
    "    rand_mean_paid_off = rand_perm[:n_paid_off].mean()\n",
    "    \n",
    "    # Take the mean of the remaining random values\n",
    "    rand_mean_default = rand_perm[n_paid_off:].mean()\n",
    "    \n",
    "    # Append the difference (rand_mean_paid_off - rand_mean_default) to the list rand_mean_diffs\n",
    "    rand_mean_diffs.append(rand_mean_paid_off - rand_mean_default)\n",
    "    \n",
    "# Convert rand_mean_diffs into a numpy array so we can use numpy functions\n",
    "rand_mean_diffs = np.array(rand_mean_diffs)\n",
    "    \n",
    "# check that we have the correct amount of data by asserting that the length of rand_mean_diffs == n_samples\n",
    "assert len(rand_mean_diffs) == n_samples\n",
    "\n",
    "# check that we only have one array of differences\n",
    "assert rand_mean_diffs.ndim == 1\n",
    "\n",
    "# Display the first three values in rand_mean_diffs so we know when it's done.\n",
    "rand_mean_diffs[:3]"
   ]
  },
  {
   "cell_type": "code",
   "execution_count": 21,
   "metadata": {},
   "outputs": [
    {
     "name": "stdout",
     "output_type": "stream",
     "text": [
      "rand_mean_diffs_zscore.mean() = 0.000\n",
      "rand_mean_diffs_zscore.std()  = 1.000\n",
      "observed_mean_diff_zscore     = 3.415\n"
     ]
    }
   ],
   "source": [
    "# 20. (5pt) Before we plot the data, let's transform all values to their z-score\n",
    "\n",
    "# Calculate the sample mean of our rand_mean_diffs using .mean()\n",
    "mean_rand_mean_diffs = rand_mean_diffs.mean()\n",
    "\n",
    "# Calculate the sample standard deviation using .std()\n",
    "std_rand_mean_diffs = rand_mean_diffs.std()\n",
    "\n",
    "# Transform rand_mean_diffs to rand_mean_diffs_zscore by subtracting the mean and dividing by the std dev\n",
    "rand_mean_diffs_zscore = (rand_mean_diffs - mean_rand_mean_diffs)/std_rand_mean_diffs\n",
    "\n",
    "# Transform the observed_mean_diff as well by subtracting the mean and dividing by the std dev\n",
    "observed_mean_diff_zscore = (observed_mean_diff - mean_rand_mean_diffs)/std_rand_mean_diffs\n",
    "\n",
    "# To check our transformation, check that the zscore mean is near 0 and std dev is near 1\n",
    "print(f'{rand_mean_diffs_zscore.mean() = :0.3f}')\n",
    "print(f'{rand_mean_diffs_zscore.std()  = :0.3f}')\n",
    "print(f'{observed_mean_diff_zscore     = :0.3f}')\n",
    "\n",
    "assert np.abs(rand_mean_diffs_zscore.mean() - 0) < .0001, 'rand_mean_diffs_zscore.mean() should be close to zero'\n",
    "assert np.abs(rand_mean_diffs_zscore.std() - 1) < .0001, 'rand_mean_diffs_zscore.std() should be close to 1'"
   ]
  },
  {
   "cell_type": "code",
   "execution_count": 22,
   "metadata": {},
   "outputs": [
    {
     "data": {
      "text/plain": [
       "<matplotlib.lines.Line2D at 0x1ec0385e8b0>"
      ]
     },
     "execution_count": 22,
     "metadata": {},
     "output_type": "execute_result"
    },
    {
     "data": {
      "image/png": "[encoded data removed]",
      "text/plain": [
       "<Figure size 432x288 with 1 Axes>"
      ]
     },
     "metadata": {
      "needs_background": "light"
     },
     "output_type": "display_data"
    }
   ],
   "source": [
    "# 21. (2pt) Plot our observed metric against our samples.\n",
    "\n",
    "# Use seaborn histplot to plot the distribution of rand_mean_diffs_zscore\n",
    "#    capture the return in ax\n",
    "ax = sns.histplot(rand_mean_diffs_zscore, stat = 'density')\n",
    "\n",
    "# Use ax.axvline() to plot a line at our observed_mean_diff_zscore\n",
    "# Make the line red using color='r'\n",
    "ax.axvline(observed_mean_diff_zscore, color = 'r')"
   ]
  },
  {
   "cell_type": "code",
   "execution_count": 23,
   "metadata": {},
   "outputs": [
    {
     "name": "stdout",
     "output_type": "stream",
     "text": [
      "p value is 0.001\n"
     ]
    }
   ],
   "source": [
    "# 22. (3pt) The plot seems to indicate a difference a real difference in values. What is the p-value?\n",
    "#    Calculate a two-tailed p_value using np.abs()\n",
    "#    Recall that we want the proportion of random samples (rand_mean_diffs_zscore) that are \n",
    "#      greater than or equal to the observed difference (observed_mean_diff_zscore).\n",
    "p_value = sum(np.abs(rand_mean_diffs_zscore) >= np.abs(observed_mean_diff_zscore)) / len(rand_mean_diffs_zscore)\n",
    "\n",
    "# print p_value with a precision of 3\n",
    "print(f'p value is {p_value:0.3f}')"
   ]
  }
 ],
 "metadata": {
  "kernelspec": {
   "display_name": "Python 3 (ipykernel)",
   "language": "python",
   "name": "python3"
  },
  "language_info": {
   "codemirror_mode": {
    "name": "ipython",
    "version": 3
   },
   "file_extension": ".py",
   "mimetype": "text/x-python",
   "name": "python",
   "nbconvert_exporter": "python",
   "pygments_lexer": "ipython3",
   "version": "3.9.7"
  }
 },
 "nbformat": 4,
 "nbformat_minor": 2
}
